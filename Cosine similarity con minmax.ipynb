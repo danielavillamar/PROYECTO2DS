{
 "cells": [
  {
   "cell_type": "markdown",
   "metadata": {},
   "source": [
    "Modelo 2 Utilizando min max y Cosine similarity."
   ]
  },
  {
   "cell_type": "code",
   "execution_count": 2,
   "metadata": {},
   "outputs": [],
   "source": [
    "import spotipy\n",
    "from spotipy.oauth2 import SpotifyClientCredentials\n",
    "from spotipy.oauth2 import SpotifyOAuth\n",
    "import spotipy.util as util\n",
    "\n",
    "from skimage import io\n",
    "import matplotlib.pyplot as plt\n",
    "import pandas as pd\n",
    "from datetime import datetime\n",
    "\n",
    "\n",
    "from sklearn.preprocessing import MinMaxScaler\n",
    "from sklearn.metrics.pairwise import cosine_similarity"
   ]
  },
  {
   "cell_type": "code",
   "execution_count": 3,
   "metadata": {},
   "outputs": [],
   "source": [
    "spotify_data = pd.read_csv(\"../PROYECTO2 K MEANS/spotify-dataset/data/data.csv\")"
   ]
  },
  {
   "cell_type": "code",
   "execution_count": 4,
   "metadata": {},
   "outputs": [],
   "source": [
    "spotify_features_df = spotify_data\n",
    "genre_OHE = pd.get_dummies(spotify_features_df.genre)\n",
    "key_OHE = pd.get_dummies(spotify_features_df.key)"
   ]
  },
  {
   "cell_type": "markdown",
   "metadata": {},
   "source": [
    "Como podemos ver que las columnas numéricas tienen diferentes rangos, realizaremos una normalización máxima-mínima para cambiar los valores de las columnas numéricas en el conjunto de datos a una escala estándar.\n",
    "\n",
    "Es el enfoque de normalización más común donde el valor mínimo en la columna de características se transforma en 0 y el valor máximo en la columna de características se transforma en 1."
   ]
  },
  {
   "cell_type": "code",
   "execution_count": 5,
   "metadata": {},
   "outputs": [],
   "source": [
    "scaled_features = MinMaxScaler().fit_transform([\n",
    "  spotify_features_df['acousticness'].values,\n",
    "  spotify_features_df['danceability'].values,\n",
    "  spotify_features_df['duration_ms'].values,\n",
    "  spotify_features_df['energy'].values,\n",
    "  spotify_features_df['instrumentalness'].values,\n",
    "  spotify_features_df['liveness'].values,\n",
    "  spotify_features_df['loudness'].values,\n",
    "  spotify_features_df['speechiness'].values,\n",
    "  spotify_features_df['tempo'].values,\n",
    "  spotify_features_df['valence'].values,\n",
    "  ])"
   ]
  },
  {
   "cell_type": "code",
   "execution_count": 6,
   "metadata": {},
   "outputs": [],
   "source": [
    "#Almacenar los vectores de columna transformados en nuestro marco de datos\n",
    "spotify_features_df[['acousticness','danceability','duration_ms','energy','instrumentalness','liveness','loudness','speechiness','tempo','valence']] = scaled_features.T"
   ]
  },
  {
   "cell_type": "markdown",
   "metadata": {},
   "source": [
    "Eliminamos las características que no se consideran para determinar la similitud y las características categóricas que ya están convertidas en vectores OHE."
   ]
  },
  {
   "cell_type": "code",
   "execution_count": 7,
   "metadata": {},
   "outputs": [],
   "source": [
    "spotify_features_df = spotify_features_df.drop('genre',axis = 1)\n",
    "spotify_features_df = spotify_features_df.drop('artist_name', axis = 1)\n",
    "spotify_features_df = spotify_features_df.drop('track_name', axis = 1)\n",
    "spotify_features_df = spotify_features_df.drop('popularity',axis = 1)\n",
    "spotify_features_df = spotify_features_df.drop('key', axis = 1)\n",
    "spotify_features_df = spotify_features_df.drop('mode', axis = 1)\n",
    "spotify_features_df = spotify_features_df.drop('time_signature', axis = 1)"
   ]
  },
  {
   "cell_type": "code",
   "execution_count": 8,
   "metadata": {},
   "outputs": [],
   "source": [
    "# Append a las columnas OHE de las características categóricas\n",
    "spotify_features_df = spotify_features_df.join(genre_OHE)\n",
    "spotify_features_df = spotify_features_df.join(key_OHE)"
   ]
  },
  {
   "cell_type": "markdown",
   "metadata": {},
   "source": [
    "Al igual que en el modelo de k means utilizamos la api de spotify web"
   ]
  },
  {
   "cell_type": "code",
   "execution_count": 39,
   "metadata": {},
   "outputs": [],
   "source": [
    "client_id = \"9c56eda59b544c55a63028477b5b7e18\"\n",
    "client_secret= \"6fcc6b2dc613464a92c60ed4fc81cb52\""
   ]
  },
  {
   "cell_type": "markdown",
   "metadata": {},
   "source": [
    "ESTAS CLAVES SON DE LA CUENTA PERSONAL DEL AUTOR"
   ]
  },
  {
   "cell_type": "markdown",
   "metadata": {},
   "source": [
    "Guardamos los detalles de la playlist en un diccionario de python"
   ]
  },
  {
   "cell_type": "code",
   "execution_count": 40,
   "metadata": {},
   "outputs": [
    {
     "name": "stdout",
     "output_type": "stream",
     "text": [
      "{'Daphne': '2h6g4MNyMwIyl5legG7q33', 'Lone': '0mYTzihgs31hj0yqomfNYN', 'Estudiar': '3fZDKXsEHPqa289vLqItdb', 'Mis pistas de Shazam': '0VDyTRhKn3Gr2zdnvbiFHl'}\n"
     ]
    }
   ],
   "source": [
    "scope = 'user-library-read'\n",
    "token = util.prompt_for_user_token(\n",
    "    scope, \n",
    "    client_id= client_id, \n",
    "    client_secret=client_secret, \n",
    "    redirect_uri='http://localhost:8881/callback'\n",
    "  )\n",
    "sp = spotipy.Spotify(auth=token)\n",
    "playlist_dic = {}\n",
    "playlist_cover_art = {}\n",
    "\n",
    "for i in sp.current_user_playlists()['items']:\n",
    "    playlist_dic[i['name']] = i['uri'].split(':')[2]\n",
    "    playlist_cover_art[i['uri'].split(':')[2]] = i['images'][0]['url']\n",
    "\n",
    "print(playlist_dic)"
   ]
  },
  {
   "cell_type": "markdown",
   "metadata": {},
   "source": [
    "El siguiente método crea una df para nuestra playlist utilizando el conjunto de datos de características de canciones de Spotify.\n"
   ]
  },
  {
   "cell_type": "code",
   "execution_count": 41,
   "metadata": {},
   "outputs": [],
   "source": [
    "def generate_playlist_df(playlist_name, playlist_dic, spotify_data):\n",
    "    \n",
    "    playlist = pd.DataFrame()\n",
    "\n",
    "    for i, j in enumerate(sp.playlist(playlist_dic[playlist_name])['tracks']['items']):\n",
    "        playlist.loc[i, 'artist'] = j['track']['artists'][0]['name']\n",
    "        playlist.loc[i, 'track_name'] = j['track']['name']\n",
    "        playlist.loc[i, 'track_id'] = j['track']['id']\n",
    "        playlist.loc[i, 'url'] = j['track']['album']['images'][1]['url']\n",
    "        playlist.loc[i, 'date_added'] = j['added_at']\n",
    "\n",
    "    playlist['date_added'] = pd.to_datetime(playlist['date_added'])  \n",
    "    \n",
    "    playlist = playlist[playlist['track_id'].isin(spotify_data['track_id'].values)].sort_values('date_added',ascending = False)\n",
    "\n",
    "    return playlist\n",
    "playlist_df = generate_playlist_df('Lone', playlist_dic, spotify_data) "
   ]
  },
  {
   "cell_type": "code",
   "execution_count": 42,
   "metadata": {},
   "outputs": [
    {
     "data": {
      "text/html": [
       "<div>\n",
       "<style scoped>\n",
       "    .dataframe tbody tr th:only-of-type {\n",
       "        vertical-align: middle;\n",
       "    }\n",
       "\n",
       "    .dataframe tbody tr th {\n",
       "        vertical-align: top;\n",
       "    }\n",
       "\n",
       "    .dataframe thead th {\n",
       "        text-align: right;\n",
       "    }\n",
       "</style>\n",
       "<table border=\"1\" class=\"dataframe\">\n",
       "  <thead>\n",
       "    <tr style=\"text-align: right;\">\n",
       "      <th></th>\n",
       "      <th>artist</th>\n",
       "      <th>track_name</th>\n",
       "      <th>track_id</th>\n",
       "      <th>url</th>\n",
       "      <th>date_added</th>\n",
       "    </tr>\n",
       "  </thead>\n",
       "  <tbody>\n",
       "    <tr>\n",
       "      <th>17</th>\n",
       "      <td>Peter Manos</td>\n",
       "      <td>In My Head</td>\n",
       "      <td>1tT55K6VEyO6XFDxK4lDQe</td>\n",
       "      <td>https://i.scdn.co/image/ab67616d00001e023c0c1f...</td>\n",
       "      <td>2020-09-18 13:57:12+00:00</td>\n",
       "    </tr>\n",
       "    <tr>\n",
       "      <th>15</th>\n",
       "      <td>XXXTENTACION</td>\n",
       "      <td>changes</td>\n",
       "      <td>7AFASza1mXqntmGtbxXprO</td>\n",
       "      <td>https://i.scdn.co/image/ab67616d00001e02806c16...</td>\n",
       "      <td>2020-09-18 13:53:57+00:00</td>\n",
       "    </tr>\n",
       "    <tr>\n",
       "      <th>14</th>\n",
       "      <td>Alec Benjamin</td>\n",
       "      <td>Let Me Down Slowly</td>\n",
       "      <td>2qxmye6gAegTMjLKEBoR3d</td>\n",
       "      <td>https://i.scdn.co/image/ab67616d00001e02459d67...</td>\n",
       "      <td>2020-09-18 13:52:49+00:00</td>\n",
       "    </tr>\n",
       "    <tr>\n",
       "      <th>13</th>\n",
       "      <td>Lil Yung Pharaoh</td>\n",
       "      <td>I Hate You, But I Love You</td>\n",
       "      <td>4upK9OgMepvBFEGD8CDE9A</td>\n",
       "      <td>https://i.scdn.co/image/ab67616d00001e02186fb7...</td>\n",
       "      <td>2020-09-18 13:52:35+00:00</td>\n",
       "    </tr>\n",
       "    <tr>\n",
       "      <th>12</th>\n",
       "      <td>Ivan B</td>\n",
       "      <td>Back to You</td>\n",
       "      <td>3hX2VFUZi2W5slqkP7hAvw</td>\n",
       "      <td>https://i.scdn.co/image/ab67616d00001e02a6d9a0...</td>\n",
       "      <td>2020-09-18 13:51:10+00:00</td>\n",
       "    </tr>\n",
       "  </tbody>\n",
       "</table>\n",
       "</div>"
      ],
      "text/plain": [
       "              artist                  track_name                track_id  \\\n",
       "17       Peter Manos                  In My Head  1tT55K6VEyO6XFDxK4lDQe   \n",
       "15      XXXTENTACION                     changes  7AFASza1mXqntmGtbxXprO   \n",
       "14     Alec Benjamin          Let Me Down Slowly  2qxmye6gAegTMjLKEBoR3d   \n",
       "13  Lil Yung Pharaoh  I Hate You, But I Love You  4upK9OgMepvBFEGD8CDE9A   \n",
       "12            Ivan B                 Back to You  3hX2VFUZi2W5slqkP7hAvw   \n",
       "\n",
       "                                                  url  \\\n",
       "17  https://i.scdn.co/image/ab67616d00001e023c0c1f...   \n",
       "15  https://i.scdn.co/image/ab67616d00001e02806c16...   \n",
       "14  https://i.scdn.co/image/ab67616d00001e02459d67...   \n",
       "13  https://i.scdn.co/image/ab67616d00001e02186fb7...   \n",
       "12  https://i.scdn.co/image/ab67616d00001e02a6d9a0...   \n",
       "\n",
       "                  date_added  \n",
       "17 2020-09-18 13:57:12+00:00  \n",
       "15 2020-09-18 13:53:57+00:00  \n",
       "14 2020-09-18 13:52:49+00:00  \n",
       "13 2020-09-18 13:52:35+00:00  \n",
       "12 2020-09-18 13:51:10+00:00  "
      ]
     },
     "execution_count": 42,
     "metadata": {},
     "output_type": "execute_result"
    }
   ],
   "source": [
    "playlist_df.head()"
   ]
  },
  {
   "cell_type": "code",
   "execution_count": 43,
   "metadata": {},
   "outputs": [],
   "source": [
    "from skimage import io\n",
    "import matplotlib.pyplot as plt\n",
    "\n",
    "def visualize_cover_art(playlist_df):\n",
    "    temp = playlist_df['url'].values\n",
    "    plt.figure(figsize=(15,int(0.625 * len(temp))) , facecolor='#8cfc03')\n",
    "    columns = 5\n",
    "    \n",
    "    for i, url in enumerate(temp):\n",
    "        plt.subplot(len(temp) / columns + 1, columns, i + 1)\n",
    "\n",
    "        image = io.imread(url)\n",
    "        plt.imshow(image)\n",
    "        plt.xticks([])\n",
    "        plt.yticks([])\n",
    "        s='' \n",
    "        plt.xlabel(s.join(playlist_df['track_name'].values[i].split(' ')[:4]), fontsize = 10, fontweight='bold')\n",
    "        plt.tight_layout(h_pad=0.8, w_pad=0)\n",
    "        plt.subplots_adjust(wspace=None, hspace=None)\n",
    "\n",
    "    plt.show()"
   ]
  },
  {
   "cell_type": "markdown",
   "metadata": {},
   "source": [
    "Para realizar la cosine similarity entre nuestra playlist y las canciones que no están presentes en nuestra playlist, se resume nuestra playlist en un vector. Este vector representará nuestra playlist en el espacio de caracteristicas, y podremos encontrar canciones similares a las canciones en nuestra playlist.\n",
    "\n",
    "El siguiente metodo devuelve nuestra playlist como un solo vector y todas las canciones que no están presentes en nuestra lista de reproducción en una df."
   ]
  },
  {
   "cell_type": "code",
   "execution_count": 45,
   "metadata": {},
   "outputs": [],
   "source": [
    "def generate_playlist_vector(spotify_features, playlist_df, weight_factor):\n",
    "    \n",
    "    spotify_features_playlist = spotify_features[spotify_features['track_id'].isin(playlist_df['track_id'].values)]\n",
    "    spotify_features_playlist = spotify_features_playlist.merge(playlist_df[['track_id','date_added']], on = 'track_id', how = 'inner')\n",
    "    \n",
    "    spotify_features_nonplaylist = spotify_features[~spotify_features['track_id'].isin(playlist_df['track_id'].values)]\n",
    "    \n",
    "    playlist_feature_set = spotify_features_playlist.sort_values('date_added',ascending=False)\n",
    "    \n",
    "    \n",
    "    most_recent_date = playlist_feature_set.iloc[0,-1]\n",
    "    \n",
    "    for ix, row in playlist_feature_set.iterrows():\n",
    "        playlist_feature_set.loc[ix,'days_from_recent'] = int((most_recent_date.to_pydatetime() - row.iloc[-1].to_pydatetime()).days)\n",
    "        \n",
    "    \n",
    "    playlist_feature_set['weight'] = playlist_feature_set['days_from_recent'].apply(lambda x: weight_factor ** (-x))\n",
    "    \n",
    "    playlist_feature_set_weighted = playlist_feature_set.copy()\n",
    "    \n",
    "    playlist_feature_set_weighted.update(playlist_feature_set_weighted.iloc[:,:-3].mul(playlist_feature_set_weighted.weight.astype(int),0))   \n",
    "    \n",
    "    playlist_feature_set_weighted_final = playlist_feature_set_weighted.iloc[:, :-3]\n",
    "    \n",
    "\n",
    "    \n",
    "    return playlist_feature_set_weighted_final.sum(axis = 0), spotify_features_nonplaylist"
   ]
  },
  {
   "cell_type": "code",
   "execution_count": 46,
   "metadata": {},
   "outputs": [
    {
     "name": "stdout",
     "output_type": "stream",
     "text": [
      "(50,)\n",
      "                 track_id  acousticness  danceability  duration_ms    energy  \\\n",
      "0  0BRjO6ga9RKCKjfDqeFgWV      0.000025      0.000022          1.0  0.000028   \n",
      "1  0BjC1NfoEOOusryehmNudP      0.000042      0.000045          1.0  0.000046   \n",
      "2  0CoSDzoNIKCRs124s9uTVy      0.000087      0.000085          1.0  0.000082   \n",
      "3  0Gc6TVm52BwZD07Ki6tIvf      0.000084      0.000081          1.0  0.000082   \n",
      "4  0IuslXpMROHdEPvSl1fTQK      0.000267      0.000260          1.0  0.000259   \n",
      "\n",
      "   instrumentalness  liveness  loudness  speechiness     tempo  ...  B  C  C#  \\\n",
      "0          0.000018  0.000022       0.0     0.000019  0.001699  ...  0  0   1   \n",
      "1          0.000040  0.000042       0.0     0.000041  0.001307  ...  0  0   0   \n",
      "2          0.000082  0.000082       0.0     0.000082  0.000666  ...  0  1   0   \n",
      "3          0.000080  0.000081       0.0     0.000080  0.001207  ...  0  0   1   \n",
      "4          0.000257  0.000258       0.0     0.000256  0.001957  ...  0  0   0   \n",
      "\n",
      "   D  D#  E  F  F#  G  G#  \n",
      "0  0   0  0  0   0  0   0  \n",
      "1  0   0  0  0   1  0   0  \n",
      "2  0   0  0  0   0  0   0  \n",
      "3  0   0  0  0   0  0   0  \n",
      "4  0   0  0  1   0  0   0  \n",
      "\n",
      "[5 rows x 50 columns]\n"
     ]
    }
   ],
   "source": [
    "playlist_vector, nonplaylist_df = generate_playlist_vector(spotify_features_df, playlist_df, 1.2)\n",
    "print(playlist_vector.shape)\n",
    "print(nonplaylist_df.head())"
   ]
  },
  {
   "cell_type": "markdown",
   "metadata": {},
   "source": [
    "Se utiliza cosine similarity como una métrica de similitud para determinar las canciones que son muy similares a nuestra playlist.\n",
    "\n",
    "Realizaremos la cosine similarity entre nuestro vector de playlist y las canciones que no están presentes en playlist.\n",
    "\n",
    "Luego, realizaremos la cosine similarity utilizando una biblioteca basada en Python, Scikit, y almacenaremos los valores de cosine similarity en una columna separada.\n",
    "\n",
    "A continuación, invertiremos la ordenación del df en función de la columna de cosine similarity. Finalmente, generaremos las 15 mejores recomendaciones de canciones como nuestra playlist recomendada."
   ]
  },
  {
   "cell_type": "code",
   "execution_count": 47,
   "metadata": {},
   "outputs": [],
   "source": [
    "def generate_recommendation(spotify_data, playlist_vector, nonplaylist_df):\n",
    "\n",
    "    non_playlist = spotify_data[spotify_data['track_id'].isin(nonplaylist_df['track_id'].values)]\n",
    "    non_playlist['sim'] = cosine_similarity(nonplaylist_df.drop(['track_id'], axis = 1).values, playlist_vector.drop(labels = 'track_id').values.reshape(1, -1))[:,0]\n",
    "    non_playlist_top15 = non_playlist.sort_values('sim',ascending = False).head(15)\n",
    "    non_playlist_top15['url'] = non_playlist_top15['track_id'].apply(lambda x: sp.track(x)['album']['images'][1]['url'])\n",
    "    \n",
    "    return  non_playlist_top15"
   ]
  },
  {
   "cell_type": "code",
   "execution_count": 48,
   "metadata": {},
   "outputs": [
    {
     "name": "stderr",
     "output_type": "stream",
     "text": [
      "C:\\Users\\Usuario\\AppData\\Local\\Temp\\ipykernel_16872\\43927750.py:4: SettingWithCopyWarning: \n",
      "A value is trying to be set on a copy of a slice from a DataFrame.\n",
      "Try using .loc[row_indexer,col_indexer] = value instead\n",
      "\n",
      "See the caveats in the documentation: https://pandas.pydata.org/pandas-docs/stable/user_guide/indexing.html#returning-a-view-versus-a-copy\n",
      "  non_playlist['sim'] = cosine_similarity(nonplaylist_df.drop(['track_id'], axis = 1).values, playlist_vector.drop(labels = 'track_id').values.reshape(1, -1))[:,0]\n"
     ]
    },
    {
     "data": {
      "text/html": [
       "<div>\n",
       "<style scoped>\n",
       "    .dataframe tbody tr th:only-of-type {\n",
       "        vertical-align: middle;\n",
       "    }\n",
       "\n",
       "    .dataframe tbody tr th {\n",
       "        vertical-align: top;\n",
       "    }\n",
       "\n",
       "    .dataframe thead th {\n",
       "        text-align: right;\n",
       "    }\n",
       "</style>\n",
       "<table border=\"1\" class=\"dataframe\">\n",
       "  <thead>\n",
       "    <tr style=\"text-align: right;\">\n",
       "      <th></th>\n",
       "      <th>genre</th>\n",
       "      <th>artist_name</th>\n",
       "      <th>track_name</th>\n",
       "      <th>track_id</th>\n",
       "      <th>popularity</th>\n",
       "      <th>acousticness</th>\n",
       "      <th>danceability</th>\n",
       "      <th>duration_ms</th>\n",
       "      <th>energy</th>\n",
       "      <th>instrumentalness</th>\n",
       "      <th>key</th>\n",
       "      <th>liveness</th>\n",
       "      <th>loudness</th>\n",
       "      <th>mode</th>\n",
       "      <th>speechiness</th>\n",
       "      <th>tempo</th>\n",
       "      <th>time_signature</th>\n",
       "      <th>valence</th>\n",
       "      <th>sim</th>\n",
       "      <th>url</th>\n",
       "    </tr>\n",
       "  </thead>\n",
       "  <tbody>\n",
       "    <tr>\n",
       "      <th>87125</th>\n",
       "      <td>Rap</td>\n",
       "      <td>XXXTENTACION</td>\n",
       "      <td>Carry On</td>\n",
       "      <td>2yZax79pOrYuyIFVW2cZY2</td>\n",
       "      <td>80</td>\n",
       "      <td>0.000109</td>\n",
       "      <td>0.000109</td>\n",
       "      <td>1.0</td>\n",
       "      <td>0.000105</td>\n",
       "      <td>0.000103</td>\n",
       "      <td>D#</td>\n",
       "      <td>0.000105</td>\n",
       "      <td>0.0</td>\n",
       "      <td>Minor</td>\n",
       "      <td>0.000107</td>\n",
       "      <td>0.001243</td>\n",
       "      <td>4/4</td>\n",
       "      <td>0.000106</td>\n",
       "      <td>0.828325</td>\n",
       "      <td>https://i.scdn.co/image/ab67616d00001e02203c89...</td>\n",
       "    </tr>\n",
       "    <tr>\n",
       "      <th>117800</th>\n",
       "      <td>Rap</td>\n",
       "      <td>Shoreline Mafia</td>\n",
       "      <td>Traplantic</td>\n",
       "      <td>6ymdTUcJygnxQcRDXDRG5F</td>\n",
       "      <td>57</td>\n",
       "      <td>0.000083</td>\n",
       "      <td>0.000090</td>\n",
       "      <td>1.0</td>\n",
       "      <td>0.000087</td>\n",
       "      <td>0.000083</td>\n",
       "      <td>C#</td>\n",
       "      <td>0.000084</td>\n",
       "      <td>0.0</td>\n",
       "      <td>Major</td>\n",
       "      <td>0.000085</td>\n",
       "      <td>0.001310</td>\n",
       "      <td>4/4</td>\n",
       "      <td>0.000083</td>\n",
       "      <td>0.828325</td>\n",
       "      <td>https://i.scdn.co/image/ab67616d00001e02125adb...</td>\n",
       "    </tr>\n",
       "    <tr>\n",
       "      <th>122157</th>\n",
       "      <td>Rap</td>\n",
       "      <td>Lil Tracy</td>\n",
       "      <td>Heart</td>\n",
       "      <td>3FwjVGj09AuW9cplShwmFl</td>\n",
       "      <td>55</td>\n",
       "      <td>0.000101</td>\n",
       "      <td>0.000105</td>\n",
       "      <td>1.0</td>\n",
       "      <td>0.000103</td>\n",
       "      <td>0.000101</td>\n",
       "      <td>C#</td>\n",
       "      <td>0.000101</td>\n",
       "      <td>0.0</td>\n",
       "      <td>Minor</td>\n",
       "      <td>0.000101</td>\n",
       "      <td>0.001209</td>\n",
       "      <td>4/4</td>\n",
       "      <td>0.000102</td>\n",
       "      <td>0.828325</td>\n",
       "      <td>https://i.scdn.co/image/ab67616d00001e02735890...</td>\n",
       "    </tr>\n",
       "    <tr>\n",
       "      <th>119423</th>\n",
       "      <td>Rap</td>\n",
       "      <td>Tyler, The Creator</td>\n",
       "      <td>WOLF</td>\n",
       "      <td>2JZpS2sOdJy37oBpn1GuPW</td>\n",
       "      <td>53</td>\n",
       "      <td>0.000108</td>\n",
       "      <td>0.000109</td>\n",
       "      <td>1.0</td>\n",
       "      <td>0.000108</td>\n",
       "      <td>0.000105</td>\n",
       "      <td>C#</td>\n",
       "      <td>0.000109</td>\n",
       "      <td>0.0</td>\n",
       "      <td>Minor</td>\n",
       "      <td>0.000106</td>\n",
       "      <td>0.001370</td>\n",
       "      <td>4/4</td>\n",
       "      <td>0.000108</td>\n",
       "      <td>0.828325</td>\n",
       "      <td>https://i.scdn.co/image/ab67616d00001e026be680...</td>\n",
       "    </tr>\n",
       "    <tr>\n",
       "      <th>117802</th>\n",
       "      <td>Rap</td>\n",
       "      <td>J. Cole</td>\n",
       "      <td>Mo Money (Interlude)</td>\n",
       "      <td>3Iz0A1nuTjiLvXQaBxjWzn</td>\n",
       "      <td>57</td>\n",
       "      <td>0.000108</td>\n",
       "      <td>0.000106</td>\n",
       "      <td>1.0</td>\n",
       "      <td>0.000108</td>\n",
       "      <td>0.000098</td>\n",
       "      <td>C#</td>\n",
       "      <td>0.000100</td>\n",
       "      <td>0.0</td>\n",
       "      <td>Minor</td>\n",
       "      <td>0.000103</td>\n",
       "      <td>0.001191</td>\n",
       "      <td>4/4</td>\n",
       "      <td>0.000104</td>\n",
       "      <td>0.828325</td>\n",
       "      <td>https://i.scdn.co/image/ab67616d00001e025bed71...</td>\n",
       "    </tr>\n",
       "  </tbody>\n",
       "</table>\n",
       "</div>"
      ],
      "text/plain": [
       "       genre         artist_name            track_name  \\\n",
       "87125    Rap        XXXTENTACION              Carry On   \n",
       "117800   Rap     Shoreline Mafia            Traplantic   \n",
       "122157   Rap           Lil Tracy                 Heart   \n",
       "119423   Rap  Tyler, The Creator                  WOLF   \n",
       "117802   Rap             J. Cole  Mo Money (Interlude)   \n",
       "\n",
       "                      track_id  popularity  acousticness  danceability  \\\n",
       "87125   2yZax79pOrYuyIFVW2cZY2          80      0.000109      0.000109   \n",
       "117800  6ymdTUcJygnxQcRDXDRG5F          57      0.000083      0.000090   \n",
       "122157  3FwjVGj09AuW9cplShwmFl          55      0.000101      0.000105   \n",
       "119423  2JZpS2sOdJy37oBpn1GuPW          53      0.000108      0.000109   \n",
       "117802  3Iz0A1nuTjiLvXQaBxjWzn          57      0.000108      0.000106   \n",
       "\n",
       "        duration_ms    energy  instrumentalness key  liveness  loudness  \\\n",
       "87125           1.0  0.000105          0.000103  D#  0.000105       0.0   \n",
       "117800          1.0  0.000087          0.000083  C#  0.000084       0.0   \n",
       "122157          1.0  0.000103          0.000101  C#  0.000101       0.0   \n",
       "119423          1.0  0.000108          0.000105  C#  0.000109       0.0   \n",
       "117802          1.0  0.000108          0.000098  C#  0.000100       0.0   \n",
       "\n",
       "         mode  speechiness     tempo time_signature   valence       sim  \\\n",
       "87125   Minor     0.000107  0.001243            4/4  0.000106  0.828325   \n",
       "117800  Major     0.000085  0.001310            4/4  0.000083  0.828325   \n",
       "122157  Minor     0.000101  0.001209            4/4  0.000102  0.828325   \n",
       "119423  Minor     0.000106  0.001370            4/4  0.000108  0.828325   \n",
       "117802  Minor     0.000103  0.001191            4/4  0.000104  0.828325   \n",
       "\n",
       "                                                      url  \n",
       "87125   https://i.scdn.co/image/ab67616d00001e02203c89...  \n",
       "117800  https://i.scdn.co/image/ab67616d00001e02125adb...  \n",
       "122157  https://i.scdn.co/image/ab67616d00001e02735890...  \n",
       "119423  https://i.scdn.co/image/ab67616d00001e026be680...  \n",
       "117802  https://i.scdn.co/image/ab67616d00001e025bed71...  "
      ]
     },
     "execution_count": 48,
     "metadata": {},
     "output_type": "execute_result"
    }
   ],
   "source": [
    "top15 = generate_recommendation(spotify_data, playlist_vector, nonplaylist_df)  \n",
    "top15.head()"
   ]
  }
 ],
 "metadata": {
  "kernelspec": {
   "display_name": "Python 3.10.7 64-bit",
   "language": "python",
   "name": "python3"
  },
  "language_info": {
   "codemirror_mode": {
    "name": "ipython",
    "version": 3
   },
   "file_extension": ".py",
   "mimetype": "text/x-python",
   "name": "python",
   "nbconvert_exporter": "python",
   "pygments_lexer": "ipython3",
   "version": "3.10.7"
  },
  "orig_nbformat": 4,
  "vscode": {
   "interpreter": {
    "hash": "c63d8c7d738c2960218a10995aedf0a7f67a49a231e71037adf0440953cdb45b"
   }
  }
 },
 "nbformat": 4,
 "nbformat_minor": 2
}
