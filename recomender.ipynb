{
 "cells": [
  {
   "cell_type": "code",
   "execution_count": 27,
   "metadata": {},
   "outputs": [],
   "source": [
    "import pandas as pd\n",
    "from sklearn.metrics.pairwise import sigmoid_kernel\n",
    "from sklearn.metrics.pairwise import cosine_similarity\n",
    "from sklearn import preprocessing\n",
    "\n",
    "df=pd.read_csv(\"data.csv\")"
   ]
  },
  {
   "cell_type": "code",
   "execution_count": 28,
   "metadata": {},
   "outputs": [
    {
     "data": {
      "text/html": [
       "<div>\n",
       "<style scoped>\n",
       "    .dataframe tbody tr th:only-of-type {\n",
       "        vertical-align: middle;\n",
       "    }\n",
       "\n",
       "    .dataframe tbody tr th {\n",
       "        vertical-align: top;\n",
       "    }\n",
       "\n",
       "    .dataframe thead th {\n",
       "        text-align: right;\n",
       "    }\n",
       "</style>\n",
       "<table border=\"1\" class=\"dataframe\">\n",
       "  <thead>\n",
       "    <tr style=\"text-align: right;\">\n",
       "      <th></th>\n",
       "      <th>Unnamed: 0</th>\n",
       "      <th>acousticness</th>\n",
       "      <th>danceability</th>\n",
       "      <th>duration_ms</th>\n",
       "      <th>energy</th>\n",
       "      <th>instrumentalness</th>\n",
       "      <th>key</th>\n",
       "      <th>liveness</th>\n",
       "      <th>loudness</th>\n",
       "      <th>mode</th>\n",
       "      <th>speechiness</th>\n",
       "      <th>tempo</th>\n",
       "      <th>time_signature</th>\n",
       "      <th>valence</th>\n",
       "      <th>target</th>\n",
       "      <th>song_title</th>\n",
       "      <th>artist</th>\n",
       "    </tr>\n",
       "  </thead>\n",
       "  <tbody>\n",
       "    <tr>\n",
       "      <th>0</th>\n",
       "      <td>0</td>\n",
       "      <td>0.0102</td>\n",
       "      <td>0.833</td>\n",
       "      <td>204600</td>\n",
       "      <td>0.434</td>\n",
       "      <td>0.021900</td>\n",
       "      <td>2</td>\n",
       "      <td>0.1650</td>\n",
       "      <td>-8.795</td>\n",
       "      <td>1</td>\n",
       "      <td>0.4310</td>\n",
       "      <td>150.062</td>\n",
       "      <td>4.0</td>\n",
       "      <td>0.286</td>\n",
       "      <td>1</td>\n",
       "      <td>Mask Off</td>\n",
       "      <td>Future</td>\n",
       "    </tr>\n",
       "    <tr>\n",
       "      <th>1</th>\n",
       "      <td>1</td>\n",
       "      <td>0.1990</td>\n",
       "      <td>0.743</td>\n",
       "      <td>326933</td>\n",
       "      <td>0.359</td>\n",
       "      <td>0.006110</td>\n",
       "      <td>1</td>\n",
       "      <td>0.1370</td>\n",
       "      <td>-10.401</td>\n",
       "      <td>1</td>\n",
       "      <td>0.0794</td>\n",
       "      <td>160.083</td>\n",
       "      <td>4.0</td>\n",
       "      <td>0.588</td>\n",
       "      <td>1</td>\n",
       "      <td>Redbone</td>\n",
       "      <td>Childish Gambino</td>\n",
       "    </tr>\n",
       "    <tr>\n",
       "      <th>2</th>\n",
       "      <td>2</td>\n",
       "      <td>0.0344</td>\n",
       "      <td>0.838</td>\n",
       "      <td>185707</td>\n",
       "      <td>0.412</td>\n",
       "      <td>0.000234</td>\n",
       "      <td>2</td>\n",
       "      <td>0.1590</td>\n",
       "      <td>-7.148</td>\n",
       "      <td>1</td>\n",
       "      <td>0.2890</td>\n",
       "      <td>75.044</td>\n",
       "      <td>4.0</td>\n",
       "      <td>0.173</td>\n",
       "      <td>1</td>\n",
       "      <td>Xanny Family</td>\n",
       "      <td>Future</td>\n",
       "    </tr>\n",
       "    <tr>\n",
       "      <th>3</th>\n",
       "      <td>3</td>\n",
       "      <td>0.6040</td>\n",
       "      <td>0.494</td>\n",
       "      <td>199413</td>\n",
       "      <td>0.338</td>\n",
       "      <td>0.510000</td>\n",
       "      <td>5</td>\n",
       "      <td>0.0922</td>\n",
       "      <td>-15.236</td>\n",
       "      <td>1</td>\n",
       "      <td>0.0261</td>\n",
       "      <td>86.468</td>\n",
       "      <td>4.0</td>\n",
       "      <td>0.230</td>\n",
       "      <td>1</td>\n",
       "      <td>Master Of None</td>\n",
       "      <td>Beach House</td>\n",
       "    </tr>\n",
       "    <tr>\n",
       "      <th>4</th>\n",
       "      <td>4</td>\n",
       "      <td>0.1800</td>\n",
       "      <td>0.678</td>\n",
       "      <td>392893</td>\n",
       "      <td>0.561</td>\n",
       "      <td>0.512000</td>\n",
       "      <td>5</td>\n",
       "      <td>0.4390</td>\n",
       "      <td>-11.648</td>\n",
       "      <td>0</td>\n",
       "      <td>0.0694</td>\n",
       "      <td>174.004</td>\n",
       "      <td>4.0</td>\n",
       "      <td>0.904</td>\n",
       "      <td>1</td>\n",
       "      <td>Parallel Lines</td>\n",
       "      <td>Junior Boys</td>\n",
       "    </tr>\n",
       "  </tbody>\n",
       "</table>\n",
       "</div>"
      ],
      "text/plain": [
       "   Unnamed: 0  acousticness  danceability  duration_ms  energy  \\\n",
       "0           0        0.0102         0.833       204600   0.434   \n",
       "1           1        0.1990         0.743       326933   0.359   \n",
       "2           2        0.0344         0.838       185707   0.412   \n",
       "3           3        0.6040         0.494       199413   0.338   \n",
       "4           4        0.1800         0.678       392893   0.561   \n",
       "\n",
       "   instrumentalness  key  liveness  loudness  mode  speechiness    tempo  \\\n",
       "0          0.021900    2    0.1650    -8.795     1       0.4310  150.062   \n",
       "1          0.006110    1    0.1370   -10.401     1       0.0794  160.083   \n",
       "2          0.000234    2    0.1590    -7.148     1       0.2890   75.044   \n",
       "3          0.510000    5    0.0922   -15.236     1       0.0261   86.468   \n",
       "4          0.512000    5    0.4390   -11.648     0       0.0694  174.004   \n",
       "\n",
       "   time_signature  valence  target      song_title            artist  \n",
       "0             4.0    0.286       1        Mask Off            Future  \n",
       "1             4.0    0.588       1         Redbone  Childish Gambino  \n",
       "2             4.0    0.173       1    Xanny Family            Future  \n",
       "3             4.0    0.230       1  Master Of None       Beach House  \n",
       "4             4.0    0.904       1  Parallel Lines       Junior Boys  "
      ]
     },
     "execution_count": 28,
     "metadata": {},
     "output_type": "execute_result"
    }
   ],
   "source": [
    "df.head()\n"
   ]
  },
  {
   "cell_type": "code",
   "execution_count": 29,
   "metadata": {},
   "outputs": [
    {
     "name": "stdout",
     "output_type": "stream",
     "text": [
      "<class 'pandas.core.frame.DataFrame'>\n",
      "RangeIndex: 2017 entries, 0 to 2016\n",
      "Data columns (total 17 columns):\n",
      " #   Column            Non-Null Count  Dtype  \n",
      "---  ------            --------------  -----  \n",
      " 0   Unnamed: 0        2017 non-null   int64  \n",
      " 1   acousticness      2017 non-null   float64\n",
      " 2   danceability      2017 non-null   float64\n",
      " 3   duration_ms       2017 non-null   int64  \n",
      " 4   energy            2017 non-null   float64\n",
      " 5   instrumentalness  2017 non-null   float64\n",
      " 6   key               2017 non-null   int64  \n",
      " 7   liveness          2017 non-null   float64\n",
      " 8   loudness          2017 non-null   float64\n",
      " 9   mode              2017 non-null   int64  \n",
      " 10  speechiness       2017 non-null   float64\n",
      " 11  tempo             2017 non-null   float64\n",
      " 12  time_signature    2017 non-null   float64\n",
      " 13  valence           2017 non-null   float64\n",
      " 14  target            2017 non-null   int64  \n",
      " 15  song_title        2017 non-null   object \n",
      " 16  artist            2017 non-null   object \n",
      "dtypes: float64(10), int64(5), object(2)\n",
      "memory usage: 268.0+ KB\n"
     ]
    }
   ],
   "source": [
    "df.info()"
   ]
  },
  {
   "cell_type": "markdown",
   "metadata": {},
   "source": [
    "Se normaliza lla data por medio del algoritmo min max con las columnas a utilizar, para hacer un fit"
   ]
  },
  {
   "cell_type": "code",
   "execution_count": 30,
   "metadata": {},
   "outputs": [
    {
     "name": "stdout",
     "output_type": "stream",
     "text": [
      "[[0.01024843 0.82482599 0.19073524 0.4263629  0.02243852 0.18181818\n",
      "  0.15386234 0.74114059 1.         0.51444066 0.59603317 0.26243209]\n",
      " [0.19999772 0.72041763 0.3144808  0.35008137 0.00626025 0.09090909\n",
      "  0.12439486 0.69216224 1.         0.07100517 0.6544742  0.57793565]]\n"
     ]
    }
   ],
   "source": [
    "feature_cols=['acousticness', 'danceability', 'duration_ms', 'energy',\n",
    "              'instrumentalness', 'key', 'liveness', 'loudness', 'mode',\n",
    "              'speechiness', 'tempo',  'valence',]\n",
    "\n",
    "from sklearn.preprocessing import MinMaxScaler\n",
    "scaler = MinMaxScaler()\n",
    "normalized_df =scaler.fit_transform(df[feature_cols])\n",
    "\n",
    "print(normalized_df[:2])"
   ]
  },
  {
   "cell_type": "markdown",
   "metadata": {},
   "source": [
    "Se crea la funcion de similarity para generar recomendaciones, utilizando SVM y cosine similarity"
   ]
  },
  {
   "cell_type": "code",
   "execution_count": 65,
   "metadata": {},
   "outputs": [],
   "source": [
    "indices = pd.Series(df.index, index=df['song_title']).drop_duplicates()\n",
    "\n",
    "cosine = cosine_similarity(normalized_df)\n",
    "\n",
    "def generate_recommendation(song_title, model_type=cosine ):\n",
    "\n",
    "  \n",
    "    index=indices[song_title]\n",
    "\n",
    "    score=list(enumerate(model_type[indices[index]]))\n",
    " \n",
    "    similarity_score = sorted(score,key = lambda x:x[1],reverse = True)\n",
    "   \n",
    "    similarity_score = similarity_score[1:11]\n",
    "    top_songs_index = [i[0] for i in similarity_score]\n",
    "\n",
    "    top_songs=df['song_title'].iloc[top_songs_index]\n",
    "    print(\"Similarity entre cancion escogida y recomendadas: \",similarity_score)\n",
    "    return top_songs"
   ]
  },
  {
   "cell_type": "code",
   "execution_count": 66,
   "metadata": {},
   "outputs": [
    {
     "name": "stdout",
     "output_type": "stream",
     "text": [
      "Similarity entre cancion escogida y recomendadas:  [(1187, 0.9847539845102656), (818, 0.9840309506844511), (281, 0.9830586579546059), (12, 0.9807487637970956), (1867, 0.9788710374641363), (1000, 0.9784134753225019), (1869, 0.9775609145362028), (1047, 0.9774532204955416), (1136, 0.9772488658365086), (1769, 0.9767138824482666)]\n"
     ]
    }
   ],
   "source": [
    "a=generate_recommendation('Redbone',cosine).values"
   ]
  },
  {
   "cell_type": "code",
   "execution_count": 67,
   "metadata": {},
   "outputs": [
    {
     "name": "stdout",
     "output_type": "stream",
     "text": [
      "Recomendadas:\n",
      "No. 1   Lollipop\n",
      "No. 2   My Main\n",
      "No. 3   Zion Gate Dub\n",
      "No. 4   Cemalim\n",
      "No. 5   Adventurers\n",
      "No. 6   No Security\n",
      "No. 7   Memorial Day\n",
      "No. 8   Real Thing\n",
      "No. 9   Bad Liar\n",
      "No. 10   U Got It Bad\n"
     ]
    }
   ],
   "source": [
    "\n",
    "print(\"Recomendadas:\")\n",
    "for i in range(0,len(a)):\n",
    "    print(\"No.\",i+1, \" \",a[i])\n",
    "    "
   ]
  },
  {
   "cell_type": "code",
   "execution_count": 63,
   "metadata": {},
   "outputs": [
    {
     "name": "stdout",
     "output_type": "stream",
     "text": [
      "Similarity entre cancion escogida y recomendadas:  [(1106, 0.8644406383322815), (1120, 0.8627221030363934), (598, 0.8625160346873847), (138, 0.8624361909857228), (222, 0.8616521369907595), (1266, 0.8612202479818735), (1015, 0.8611638718189624), (665, 0.8609989626256612), (557, 0.8608045723131829), (1075, 0.8604115445719285)]\n"
     ]
    }
   ],
   "source": [
    "sig_kernel = sigmoid_kernel(normalized_df)\n",
    "a=generate_recommendation('Redbone',sig_kernel).values"
   ]
  },
  {
   "cell_type": "code",
   "execution_count": 64,
   "metadata": {},
   "outputs": [
    {
     "name": "stdout",
     "output_type": "stream",
     "text": [
      "Recomendadas:\n",
      "No. 1   La Bicicleta\n",
      "No. 2   Hula Hoop\n",
      "No. 3   Piss Test (feat. Juicy J & Dany Brown)\n",
      "No. 4   Sippin On Some Syrup\n",
      "No. 5   Pass The Dutchie\n",
      "No. 6   The Happy Song\n",
      "No. 7   6 In The Morning\n",
      "No. 8   Fashion Killa\n",
      "No. 9   Blueberry (Pills & Cocaine) (feat. Danny Brown)\n",
      "No. 10   No Such Thing as a Broken Heart\n"
     ]
    }
   ],
   "source": [
    "\n",
    "\n",
    "print(\"Recomendadas:\")\n",
    "for i in range(0,len(a)):\n",
    "    print(\"No.\",i+1, \" \",a[i])\n",
    "    "
   ]
  }
 ],
 "metadata": {
  "kernelspec": {
   "display_name": "Python 3.10.5 64-bit",
   "language": "python",
   "name": "python3"
  },
  "language_info": {
   "codemirror_mode": {
    "name": "ipython",
    "version": 3
   },
   "file_extension": ".py",
   "mimetype": "text/x-python",
   "name": "python",
   "nbconvert_exporter": "python",
   "pygments_lexer": "ipython3",
   "version": "3.10.5"
  },
  "orig_nbformat": 4,
  "vscode": {
   "interpreter": {
    "hash": "c97a6b054930e302a7f992f4ae678e34e1545dcd94a016616080a82fe144bc1d"
   }
  }
 },
 "nbformat": 4,
 "nbformat_minor": 2
}
